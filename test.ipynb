{
 "cells": [
  {
   "cell_type": "code",
   "execution_count": 5,
   "metadata": {},
   "outputs": [
    {
     "data": {
      "text/plain": [
       "array([993, 859, 298, 553, 672, 971,  27, 231, 306, 706, 496, 558, 784,\n",
       "       239, 578,  55, 906, 175,  14,  77,  31, 481, 310, 311, 883, 788,\n",
       "        45, 103, 760,   1, 823, 710, 614, 790, 408, 736, 957, 366, 918,\n",
       "       267, 230, 996, 635, 698, 251, 783, 819, 141, 316, 587, 331, 295,\n",
       "       262, 432, 862, 582, 272, 270, 987, 319, 569, 643, 142, 202, 413,\n",
       "       196, 264, 531, 252, 576, 738, 299, 740, 247, 926, 412, 389, 796,\n",
       "       601, 654, 261, 456, 386, 982, 909, 693, 236, 501, 497, 874, 452,\n",
       "       494, 923, 279, 638, 485, 568, 108, 367, 644, 785, 873,  65, 902,\n",
       "       317, 636, 666, 789, 958, 214,  97, 583, 466, 523, 255, 385, 545,\n",
       "       382, 489, 513, 780, 904, 122, 946,  60, 844, 372, 283, 939, 608,\n",
       "       495, 630, 596, 713, 753, 624, 312,   8, 529, 876, 101, 615, 520,\n",
       "       249, 278, 424, 384, 395,  54,  34, 271,  30, 403, 757, 975, 990,\n",
       "       457, 362, 860, 483, 580, 986, 688, 864, 927, 378, 320, 942, 351,\n",
       "       418, 945, 795, 145, 826, 492, 751, 240, 648, 886, 144, 767, 999,\n",
       "       467, 315, 989, 922, 717, 458, 773, 204, 834, 832, 435,   5, 769,\n",
       "       679, 722, 215, 653, 150])"
      ]
     },
     "execution_count": 5,
     "metadata": {},
     "output_type": "execute_result"
    }
   ],
   "source": [
    "import numpy as np\n",
    "a = np.load('simulated_data/significant_genes.npy')\n",
    "a"
   ]
  },
  {
   "cell_type": "code",
   "execution_count": 3,
   "metadata": {},
   "outputs": [
    {
     "name": "stdout",
     "output_type": "stream",
     "text": [
      "Modified W with NaNs replaced by 0 has been saved.\n"
     ]
    }
   ],
   "source": [
    "import numpy as np\n",
    "\n",
    "# Load your W matrix\n",
    "W = np.load(\"W_case1.npy\")\n",
    "\n",
    "# Replace NaNs with 0\n",
    "W = np.nan_to_num(W, nan=0.0)\n",
    "\n",
    "# Save the modified W matrix back to the same file\n",
    "np.save(\"W_case1.npy\", W)\n",
    "\n",
    "print(\"Modified W with NaNs replaced by 0 has been saved.\")\n"
   ]
  },
  {
   "cell_type": "code",
   "execution_count": 2,
   "metadata": {},
   "outputs": [
    {
     "name": "stdout",
     "output_type": "stream",
     "text": [
      "Data saved to simulated_data.csv\n",
      "(5, 10)\n"
     ]
    }
   ],
   "source": [
    "import numpy as np\n",
    "from scipy.stats import multivariate_normal\n",
    "import pandas as pd\n",
    "\n",
    "\n",
    "if __name__ == \"__main__\":\n",
    "    # Set the parameters\n",
    "    num_genes = 10  # Number of variables (genes)\n",
    "    num_samples = 5  # Number of samples\n",
    "    data_range = (-0.5, 0.5)\n",
    "\n",
    "    k = 0.6\n",
    "    r = 0.65\n",
    "\n",
    "    # Generate means from a uniform distribution\n",
    "    means = np.random.uniform(\n",
    "        low=data_range[0], high=data_range[1], size=num_genes\n",
    "    )\n",
    "    # Generate the standard deviation matrix\n",
    "    std_dev = np.zeros((num_genes, num_genes))\n",
    "    np.fill_diagonal(\n",
    "        std_dev,\n",
    "        np.random.uniform(low=0.01, high=data_range[1], size=num_genes),\n",
    "    )\n",
    "\n",
    "    # Initialize the correlation matrix\n",
    "    corr_matrix = np.eye(num_genes)  # with zeros\n",
    "\n",
    "    # Define the significant genes\n",
    "    l = np.random.choice(\n",
    "        range(num_genes), size=int(0.2 * num_genes), replace=False\n",
    "    )\n",
    "\n",
    "    # Generate the modified means and correlations for significant genes\n",
    "    for i in l:\n",
    "        means[i] += k\n",
    "        for j in l:\n",
    "            if i != j:\n",
    "                corr_matrix[i, j] += r\n",
    "\n",
    "    # cov matrix is corr matrix_ih * std_i * std_h\n",
    "    cov_matrix = std_dev.dot(corr_matrix).dot(std_dev)\n",
    "\n",
    "    # Generate the simulated expression data\n",
    "    simulated_data = multivariate_normal.rvs(\n",
    "        mean=means, cov=cov_matrix, size=num_samples\n",
    "    )\n",
    "\n",
    "    # Convert the numpy array to a pandas DataFrame\n",
    "    df = pd.DataFrame(simulated_data)\n",
    "\n",
    "    # Save the DataFrame to a CSV file\n",
    "    df.to_csv(\"simulated_data_test.csv\", index=False)\n",
    "\n",
    "    print(\"Data saved to simulated_data.csv\")\n",
    "\n",
    "    print(simulated_data.shape)\n"
   ]
  },
  {
   "cell_type": "code",
   "execution_count": 3,
   "metadata": {},
   "outputs": [
    {
     "name": "stdout",
     "output_type": "stream",
     "text": [
      "means [ 0.36124791 -0.12239389  1.0872388   0.24336767 -0.18461028  0.38343517\n",
      " -0.10862884  0.12641376  0.11064644  0.16519982]\n",
      "corr_matrix [[1.   0.   0.   0.   0.   0.   0.   0.   0.   0.  ]\n",
      " [0.   1.   0.   0.   0.   0.   0.   0.   0.   0.  ]\n",
      " [0.   0.   1.   0.   0.   0.   0.   0.   0.65 0.  ]\n",
      " [0.   0.   0.   1.   0.   0.   0.   0.   0.   0.  ]\n",
      " [0.   0.   0.   0.   1.   0.   0.   0.   0.   0.  ]\n",
      " [0.   0.   0.   0.   0.   1.   0.   0.   0.   0.  ]\n",
      " [0.   0.   0.   0.   0.   0.   1.   0.   0.   0.  ]\n",
      " [0.   0.   0.   0.   0.   0.   0.   1.   0.   0.  ]\n",
      " [0.   0.   0.65 0.   0.   0.   0.   0.   1.   0.  ]\n",
      " [0.   0.   0.   0.   0.   0.   0.   0.   0.   1.  ]]\n",
      "cov_matrix [[0.08631339 0.         0.         0.         0.         0.\n",
      "  0.         0.         0.         0.        ]\n",
      " [0.         0.23201425 0.         0.         0.         0.\n",
      "  0.         0.         0.         0.        ]\n",
      " [0.         0.         0.053856   0.         0.         0.\n",
      "  0.         0.         0.01432101 0.        ]\n",
      " [0.         0.         0.         0.11339392 0.         0.\n",
      "  0.         0.         0.         0.        ]\n",
      " [0.         0.         0.         0.         0.14283635 0.\n",
      "  0.         0.         0.         0.        ]\n",
      " [0.         0.         0.         0.         0.         0.04942258\n",
      "  0.         0.         0.         0.        ]\n",
      " [0.         0.         0.         0.         0.         0.\n",
      "  0.08826985 0.         0.         0.        ]\n",
      " [0.         0.         0.         0.         0.         0.\n",
      "  0.         0.05343993 0.         0.        ]\n",
      " [0.         0.         0.01432101 0.         0.         0.\n",
      "  0.         0.         0.00901335 0.        ]\n",
      " [0.         0.         0.         0.         0.         0.\n",
      "  0.         0.         0.         0.00854193]]\n"
     ]
    }
   ],
   "source": [
    "print(\"means\", means)\n",
    "print(\"corr_matrix\", corr_matrix)\n",
    "print(\"cov_matrix\", cov_matrix)\n"
   ]
  }
 ],
 "metadata": {
  "kernelspec": {
   "display_name": "general",
   "language": "python",
   "name": "python3"
  },
  "language_info": {
   "codemirror_mode": {
    "name": "ipython",
    "version": 3
   },
   "file_extension": ".py",
   "mimetype": "text/x-python",
   "name": "python",
   "nbconvert_exporter": "python",
   "pygments_lexer": "ipython3",
   "version": "3.11.5"
  }
 },
 "nbformat": 4,
 "nbformat_minor": 2
}
