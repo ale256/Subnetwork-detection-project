{
 "cells": [
  {
   "cell_type": "code",
   "execution_count": 2,
   "metadata": {},
   "outputs": [
    {
     "name": "stdout",
     "output_type": "stream",
     "text": [
      "Data saved to simulated_data.csv\n",
      "(5, 10)\n"
     ]
    }
   ],
   "source": [
    "import numpy as np\n",
    "from scipy.stats import multivariate_normal\n",
    "import pandas as pd\n",
    "\n",
    "\n",
    "if __name__ == \"__main__\":\n",
    "    # Set the parameters\n",
    "    num_genes = 10  # Number of variables (genes)\n",
    "    num_samples = 5  # Number of samples\n",
    "    data_range = (-0.5, 0.5)\n",
    "\n",
    "    k = 0.6\n",
    "    r = 0.65\n",
    "\n",
    "    # Generate means from a uniform distribution\n",
    "    means = np.random.uniform(\n",
    "        low=data_range[0], high=data_range[1], size=num_genes\n",
    "    )\n",
    "    # Generate the standard deviation matrix\n",
    "    std_dev = np.zeros((num_genes, num_genes))\n",
    "    np.fill_diagonal(\n",
    "        std_dev,\n",
    "        np.random.uniform(low=0.01, high=data_range[1], size=num_genes),\n",
    "    )\n",
    "\n",
    "    # Initialize the correlation matrix\n",
    "    corr_matrix = np.eye(num_genes)  # with zeros\n",
    "\n",
    "    # Define the significant genes\n",
    "    l = np.random.choice(\n",
    "        range(num_genes), size=int(0.2 * num_genes), replace=False\n",
    "    )\n",
    "\n",
    "    # Generate the modified means and correlations for significant genes\n",
    "    for i in l:\n",
    "        means[i] += k\n",
    "        for j in l:\n",
    "            if i != j:\n",
    "                corr_matrix[i, j] += r\n",
    "\n",
    "    # cov matrix is corr matrix_ih * std_i * std_h\n",
    "    cov_matrix = std_dev.dot(corr_matrix).dot(std_dev)\n",
    "\n",
    "    # Generate the simulated expression data\n",
    "    simulated_data = multivariate_normal.rvs(\n",
    "        mean=means, cov=cov_matrix, size=num_samples\n",
    "    )\n",
    "\n",
    "    # Convert the numpy array to a pandas DataFrame\n",
    "    df = pd.DataFrame(simulated_data)\n",
    "\n",
    "    # Save the DataFrame to a CSV file\n",
    "    df.to_csv(\"simulated_data_test.csv\", index=False)\n",
    "\n",
    "    print(\"Data saved to simulated_data.csv\")\n",
    "\n",
    "    print(simulated_data.shape)\n"
   ]
  },
  {
   "cell_type": "code",
   "execution_count": 3,
   "metadata": {},
   "outputs": [
    {
     "name": "stdout",
     "output_type": "stream",
     "text": [
      "means [ 0.36124791 -0.12239389  1.0872388   0.24336767 -0.18461028  0.38343517\n",
      " -0.10862884  0.12641376  0.11064644  0.16519982]\n",
      "corr_matrix [[1.   0.   0.   0.   0.   0.   0.   0.   0.   0.  ]\n",
      " [0.   1.   0.   0.   0.   0.   0.   0.   0.   0.  ]\n",
      " [0.   0.   1.   0.   0.   0.   0.   0.   0.65 0.  ]\n",
      " [0.   0.   0.   1.   0.   0.   0.   0.   0.   0.  ]\n",
      " [0.   0.   0.   0.   1.   0.   0.   0.   0.   0.  ]\n",
      " [0.   0.   0.   0.   0.   1.   0.   0.   0.   0.  ]\n",
      " [0.   0.   0.   0.   0.   0.   1.   0.   0.   0.  ]\n",
      " [0.   0.   0.   0.   0.   0.   0.   1.   0.   0.  ]\n",
      " [0.   0.   0.65 0.   0.   0.   0.   0.   1.   0.  ]\n",
      " [0.   0.   0.   0.   0.   0.   0.   0.   0.   1.  ]]\n",
      "cov_matrix [[0.08631339 0.         0.         0.         0.         0.\n",
      "  0.         0.         0.         0.        ]\n",
      " [0.         0.23201425 0.         0.         0.         0.\n",
      "  0.         0.         0.         0.        ]\n",
      " [0.         0.         0.053856   0.         0.         0.\n",
      "  0.         0.         0.01432101 0.        ]\n",
      " [0.         0.         0.         0.11339392 0.         0.\n",
      "  0.         0.         0.         0.        ]\n",
      " [0.         0.         0.         0.         0.14283635 0.\n",
      "  0.         0.         0.         0.        ]\n",
      " [0.         0.         0.         0.         0.         0.04942258\n",
      "  0.         0.         0.         0.        ]\n",
      " [0.         0.         0.         0.         0.         0.\n",
      "  0.08826985 0.         0.         0.        ]\n",
      " [0.         0.         0.         0.         0.         0.\n",
      "  0.         0.05343993 0.         0.        ]\n",
      " [0.         0.         0.01432101 0.         0.         0.\n",
      "  0.         0.         0.00901335 0.        ]\n",
      " [0.         0.         0.         0.         0.         0.\n",
      "  0.         0.         0.         0.00854193]]\n"
     ]
    }
   ],
   "source": [
    "print(\"means\", means)\n",
    "print(\"corr_matrix\", corr_matrix)\n",
    "print(\"cov_matrix\", cov_matrix)\n"
   ]
  }
 ],
 "metadata": {
  "kernelspec": {
   "display_name": "general",
   "language": "python",
   "name": "python3"
  },
  "language_info": {
   "codemirror_mode": {
    "name": "ipython",
    "version": 3
   },
   "file_extension": ".py",
   "mimetype": "text/x-python",
   "name": "python",
   "nbconvert_exporter": "python",
   "pygments_lexer": "ipython3",
   "version": "3.11.5"
  }
 },
 "nbformat": 4,
 "nbformat_minor": 2
}
